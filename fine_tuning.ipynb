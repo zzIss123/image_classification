{
  "cells": [
    {
      "cell_type": "code",
      "execution_count": null,
      "metadata": {
        "id": "3no9JtuxYw0J"
      },
      "outputs": [],
      "source": [
        "#hello"
      ]
    },
    {
      "cell_type": "code",
      "source": [
        "# from google.colab import drive\n",
        "# drive.mount('/content/drive')"
      ],
      "metadata": {
        "colab": {
          "base_uri": "https://localhost:8080/"
        },
        "id": "ajKtISNUY4Fx",
        "outputId": "0bf731b1-5eb1-4b25-f04c-729e7d93c945"
      },
      "execution_count": 1,
      "outputs": [
        {
          "output_type": "stream",
          "name": "stdout",
          "text": [
            "Mounted at /content/drive\n"
          ]
        }
      ]
    },
    {
      "cell_type": "code",
      "source": [
        "# !cp /content/drive/MyDrive/utils -r ./\n",
        "# !cp /content/drive/MyDrive/data.zip -r ./"
      ],
      "metadata": {
        "id": "U-WAbzqYZF82"
      },
      "execution_count": 3,
      "outputs": []
    },
    {
      "cell_type": "code",
      "source": [
        "# !rm data.zip"
      ],
      "metadata": {
        "id": "ytkqykxpZSpw"
      },
      "execution_count": 6,
      "outputs": []
    },
    {
      "cell_type": "code",
      "source": [
        "import torch\n",
        "from utils.dataloader_image_classification import ImageTransform,make_datapath_list,HymenopteraDataset\n",
        "# 导入软件包\n",
        "import glob\n",
        "import os.path as osp\n",
        "import random\n",
        "import numpy as np\n",
        "import json\n",
        "from PIL import Image\n",
        "from tqdm import tqdm\n",
        "import matplotlib.pyplot as plt\n",
        "%matplotlib inline\n",
        "\n",
        "import torch\n",
        "import torch.nn as nn\n",
        "import torch.optim as optim\n",
        "import torch.utils.data as data\n",
        "import torchvision\n",
        "from torchvision import models, transforms"
      ],
      "metadata": {
        "id": "z9sdIZiWZ_-Z"
      },
      "execution_count": 14,
      "outputs": []
    },
    {
      "cell_type": "code",
      "source": [
        "#创建保存蚂蚁和蜜蜂的图片文件路径列表\n",
        "train_list = make_datapath_list(phase=\"train\")\n",
        "val_list = make_datapath_list(phase=\"val\")\n",
        "\n",
        "#创建dataset\n",
        "size = 224\n",
        "mean = (0.485,0.456,0.406)\n",
        "std = (0.229,0.224,0.225)\n",
        "train_dataset = HymenopteraDataset(train_list,transform=ImageTransform(size,mean,std),\n",
        "            phase = \"train\")\n",
        "val_dataset = HymenopteraDataset(val_list,ImageTransform(size,mean,std),phase='val')\n",
        "\n",
        "#创建dataloader\n",
        "batch_size = 32\n",
        "train_dataloader = torch.utils.data.DataLoader(\n",
        "    train_dataset,batch_size,shuffle=True)\n",
        "val_dataloader = torch.utils.data.DataLoader(\n",
        "    val_dataset,batch_size,shuffle=False)\n",
        "\n",
        "#集中保存\n",
        "dataloader_dict = {\"train\":train_dataloader, \"val\":val_dataloader}"
      ],
      "metadata": {
        "colab": {
          "base_uri": "https://localhost:8080/"
        },
        "id": "3EvHnO-ia65c",
        "outputId": "1c69f4fd-f8d3-4dc5-82c5-1e75e4e6b925"
      },
      "execution_count": 12,
      "outputs": [
        {
          "output_type": "stream",
          "name": "stdout",
          "text": [
            "./data/hymenoptera_data/train/**/*.jpg\n",
            "./data/hymenoptera_data/val/**/*.jpg\n"
          ]
        }
      ]
    },
    {
      "cell_type": "code",
      "source": [
        "#创建网络模型\n",
        "\n",
        "#创建vgg16的实例\n",
        "use_pretrained = True\n",
        "net = models.vgg16(pretrained=use_pretrained)\n",
        "\n",
        "#将vgg16最后输出层的神经元替换成蚂蚁和蜜蜂\n",
        "net.classifier[6] = nn.Linear(in_features=4096,out_features=2)\n",
        "# net\n",
        "\n",
        "#设置完训练模式\n",
        "net.train()\n",
        "\n",
        "print(\"网络设置完毕：载入已经学习完毕的权重，并设置为训练模式\")"
      ],
      "metadata": {
        "colab": {
          "base_uri": "https://localhost:8080/"
        },
        "id": "VI155As8eNvT",
        "outputId": "7ccf4fda-73bf-4350-f3fd-f102caf2d373"
      },
      "execution_count": 16,
      "outputs": [
        {
          "output_type": "stream",
          "name": "stderr",
          "text": [
            "/usr/local/lib/python3.10/dist-packages/torchvision/models/_utils.py:208: UserWarning: The parameter 'pretrained' is deprecated since 0.13 and may be removed in the future, please use 'weights' instead.\n",
            "  warnings.warn(\n",
            "/usr/local/lib/python3.10/dist-packages/torchvision/models/_utils.py:223: UserWarning: Arguments other than a weight enum or `None` for 'weights' are deprecated since 0.13 and may be removed in the future. The current behavior is equivalent to passing `weights=VGG16_Weights.IMAGENET1K_V1`. You can also use `weights=VGG16_Weights.DEFAULT` to get the most up-to-date weights.\n",
            "  warnings.warn(msg)\n"
          ]
        },
        {
          "output_type": "stream",
          "name": "stdout",
          "text": [
            "网络设置完毕：载入已经学习完毕的权重，并设置为训练模式\n"
          ]
        }
      ]
    },
    {
      "cell_type": "code",
      "source": [
        "#定义损失函数\n",
        "criterion = nn.CrossEntropyLoss()"
      ],
      "metadata": {
        "id": "XFmuYdRzf-dO"
      },
      "execution_count": 17,
      "outputs": []
    },
    {
      "cell_type": "markdown",
      "source": [
        "## 设置最优化算法\n",
        "与迁移学习不同，微调会设置全部网络层参数都可进行学习。\n"
      ],
      "metadata": {
        "id": "pfjx48oKgS0q"
      }
    },
    {
      "cell_type": "code",
      "source": [
        "#将微调中需要的学习参数保存到变量params_to_update的1~3中\n",
        "\n",
        "params_to_update_1 = []\n",
        "params_to_update_2 = []\n",
        "params_to_update_3 = []\n",
        "\n",
        "#指定需要学习的网络层名称\n",
        "update_param_names_1 = ['features']\n",
        "update_param_names_2 = ['classifier.0.weight','classifier.0.bias',\n",
        "             'classifier.3.weight','classifier.3.bias']\n",
        "update_param_names_3 = ['classifier.6.weight','classifier.6.bias']\n",
        "\n",
        "#将各个参数分别保存到各个例表中\n",
        "for name,param in net.named_parameters():\n",
        "    if update_param_names_1[0] in name:\n",
        "        param.requires_grad = True\n",
        "        params_to_update_1.append(param)\n",
        "        print(f\"保存到params_to_update_1中: {name}\")\n",
        "    elif name in update_param_names_2:\n",
        "        param.requires_grad = True\n",
        "        params_to_update_2.append(param)\n",
        "        print(f\"保存到params_to_update_2中: {name}\")\n",
        "    elif name in update_param_names_3:\n",
        "        param.requires_grad = True\n",
        "        params_to_update_3.append(param)\n",
        "        print(f\"保存到params_to_update_3中: {name}\")\n",
        "    else:\n",
        "        param.requires_grad = False\n",
        "        print(f\"不进行梯度计算: {name}\")\n",
        "\n"
      ],
      "metadata": {
        "colab": {
          "base_uri": "https://localhost:8080/"
        },
        "id": "X0an0Lsbg5WR",
        "outputId": "8e910099-b450-4481-aa57-f3309e582784"
      },
      "execution_count": 24,
      "outputs": [
        {
          "output_type": "stream",
          "name": "stdout",
          "text": [
            "保存到params_to_update_1中: features.0.weight\n",
            "保存到params_to_update_1中: features.0.bias\n",
            "保存到params_to_update_1中: features.2.weight\n",
            "保存到params_to_update_1中: features.2.bias\n",
            "保存到params_to_update_1中: features.5.weight\n",
            "保存到params_to_update_1中: features.5.bias\n",
            "保存到params_to_update_1中: features.7.weight\n",
            "保存到params_to_update_1中: features.7.bias\n",
            "保存到params_to_update_1中: features.10.weight\n",
            "保存到params_to_update_1中: features.10.bias\n",
            "保存到params_to_update_1中: features.12.weight\n",
            "保存到params_to_update_1中: features.12.bias\n",
            "保存到params_to_update_1中: features.14.weight\n",
            "保存到params_to_update_1中: features.14.bias\n",
            "保存到params_to_update_1中: features.17.weight\n",
            "保存到params_to_update_1中: features.17.bias\n",
            "保存到params_to_update_1中: features.19.weight\n",
            "保存到params_to_update_1中: features.19.bias\n",
            "保存到params_to_update_1中: features.21.weight\n",
            "保存到params_to_update_1中: features.21.bias\n",
            "保存到params_to_update_1中: features.24.weight\n",
            "保存到params_to_update_1中: features.24.bias\n",
            "保存到params_to_update_1中: features.26.weight\n",
            "保存到params_to_update_1中: features.26.bias\n",
            "保存到params_to_update_1中: features.28.weight\n",
            "保存到params_to_update_1中: features.28.bias\n",
            "保存到params_to_update_2中: classifier.0.weight\n",
            "保存到params_to_update_2中: classifier.0.bias\n",
            "保存到params_to_update_2中: classifier.3.weight\n",
            "保存到params_to_update_2中: classifier.3.bias\n",
            "保存到params_to_update_3中: classifier.6.weight\n",
            "保存到params_to_update_3中: classifier.6.bias\n"
          ]
        }
      ]
    },
    {
      "cell_type": "code",
      "source": [
        "#设置各个参数的优化算法\n",
        "optimizer = optim.SGD([\n",
        "    {'params':params_to_update_1,\"lr\":1e-4},\n",
        "    {'params':params_to_update_2,\"lr\":5e-4},\n",
        "    {'params':params_to_update_3,\"lr\":1e-3}],momentum=0.9)"
      ],
      "metadata": {
        "id": "P03oF-WCgMpA"
      },
      "execution_count": 25,
      "outputs": []
    },
    {
      "cell_type": "code",
      "source": [
        "#学习和验证\n",
        "#使用GPU\n",
        "\n",
        "def train_model(net,dataloader_dict,criterion,optimizer,num_epochs):\n",
        "    #初始化\n",
        "    #确认GPU\n",
        "    device = torch.device(\"cuda:0\" if torch.cuda.is_available() else \"cpu\")\n",
        "    print(f'使用设备: {device}')\n",
        "\n",
        "    #将网络输入GPU\n",
        "    net.to(device)\n",
        "\n",
        "    #如果网络达到比较稳定的程度，则开启加速\n",
        "    torch.backends.cudnn.benchmark = True\n",
        "\n",
        "    #epoch循环\n",
        "    for epoch in range(num_epochs):\n",
        "        print(f\"Epoch {epoch+1}/{num_epochs}\")\n",
        "        print(\"----------\")\n",
        "\n",
        "        #每个epoch中训练与验证循环\n",
        "        for phase in ['train','val']:\n",
        "            if phase == 'train':\n",
        "                net.train()\n",
        "            else:\n",
        "                net.eval()\n",
        "\n",
        "            epoch_loss = 0.0\n",
        "            epoch_corrects = 0\n",
        "\n",
        "            #为了对未学习性能验证，省略epoch=0的训练\n",
        "            if epoch==0 and phase==\"train\":\n",
        "                continue\n",
        "\n",
        "            #加载小批量\n",
        "            for inputs,labels in tqdm(dataloader_dict[phase]):\n",
        "                #如果GPU可用，则将数据加载到GPU中\n",
        "                inputs = inputs.to(device)\n",
        "                labels = labels.to(device)\n",
        "\n",
        "                #初始化optimizer\n",
        "                optimizer.zero_grad()\n",
        "\n",
        "                #计算forward\n",
        "                with torch.set_grad_enabled(phase == \"train\"):\n",
        "                    outputs = net(inputs)\n",
        "                    loss = criterion(outputs,labels)\n",
        "                    _,preds = torch.max(outputs,1)\n",
        "\n",
        "                    #训练时反向传播\n",
        "                    if phase == \"train\":\n",
        "                        loss.backward()\n",
        "                        optimizer.step()\n",
        "                    #计算结果\n",
        "                    epoch_loss += loss.item()*inputs.size(0)\n",
        "                    epoch_corrects = torch.sum(preds == labels.data)\n",
        "\n",
        "                #显示每轮的loss和准确率\n",
        "                epoch_loss = epoch_loss / len(dataloader_dict[phase].dataset)\n",
        "                epoch_acc = epoch_corrects.double()/len(dataloader_dict[phase].dataset)\n",
        "\n",
        "                print(f\"{phase} Loss:{epoch_loss:.4f} Acc:{epoch_acc:.4f}\")\n",
        "\n"
      ],
      "metadata": {
        "id": "Of8zCVail76w"
      },
      "execution_count": 27,
      "outputs": []
    },
    {
      "cell_type": "code",
      "source": [
        "num_epochs = 2\n",
        "train_model(net,dataloader_dict,criterion,optimizer,num_epochs )"
      ],
      "metadata": {
        "colab": {
          "base_uri": "https://localhost:8080/"
        },
        "id": "nzvr69fRmTGa",
        "outputId": "65895633-6d44-4228-bc51-a66c91419901"
      },
      "execution_count": 28,
      "outputs": [
        {
          "output_type": "stream",
          "name": "stdout",
          "text": [
            "使用设备: cuda:0\n",
            "Epoch 1/2\n",
            "----------\n"
          ]
        },
        {
          "output_type": "stream",
          "name": "stderr",
          "text": [
            " 20%|██        | 1/5 [00:10<00:42, 10.64s/it]"
          ]
        },
        {
          "output_type": "stream",
          "name": "stdout",
          "text": [
            "val Loss:0.1244 Acc:0.1699\n"
          ]
        },
        {
          "output_type": "stream",
          "name": "stderr",
          "text": [
            "\r 40%|████      | 2/5 [00:11<00:13,  4.62s/it]"
          ]
        },
        {
          "output_type": "stream",
          "name": "stdout",
          "text": [
            "val Loss:0.1247 Acc:0.1503\n"
          ]
        },
        {
          "output_type": "stream",
          "name": "stderr",
          "text": [
            "\r 60%|██████    | 3/5 [00:11<00:05,  2.74s/it]"
          ]
        },
        {
          "output_type": "stream",
          "name": "stdout",
          "text": [
            "val Loss:0.1372 Acc:0.1242\n"
          ]
        },
        {
          "output_type": "stream",
          "name": "stderr",
          "text": [
            "\r 80%|████████  | 4/5 [00:12<00:01,  1.87s/it]"
          ]
        },
        {
          "output_type": "stream",
          "name": "stdout",
          "text": [
            "val Loss:0.1571 Acc:0.0980\n"
          ]
        },
        {
          "output_type": "stream",
          "name": "stderr",
          "text": [
            "100%|██████████| 5/5 [00:14<00:00,  2.96s/it]\n"
          ]
        },
        {
          "output_type": "stream",
          "name": "stdout",
          "text": [
            "val Loss:0.1303 Acc:0.0458\n",
            "Epoch 2/2\n",
            "----------\n"
          ]
        },
        {
          "output_type": "stream",
          "name": "stderr",
          "text": [
            " 12%|█▎        | 1/8 [00:09<01:05,  9.36s/it]"
          ]
        },
        {
          "output_type": "stream",
          "name": "stdout",
          "text": [
            "train Loss:0.1052 Acc:0.0658\n"
          ]
        },
        {
          "output_type": "stream",
          "name": "stderr",
          "text": [
            "\r 25%|██▌       | 2/8 [00:10<00:25,  4.23s/it]"
          ]
        },
        {
          "output_type": "stream",
          "name": "stdout",
          "text": [
            "train Loss:0.0958 Acc:0.0700\n"
          ]
        },
        {
          "output_type": "stream",
          "name": "stderr",
          "text": [
            "\r 38%|███▊      | 3/8 [00:10<00:12,  2.59s/it]"
          ]
        },
        {
          "output_type": "stream",
          "name": "stdout",
          "text": [
            "train Loss:0.0729 Acc:0.0905\n"
          ]
        },
        {
          "output_type": "stream",
          "name": "stderr",
          "text": [
            "\r 50%|█████     | 4/8 [00:11<00:07,  1.89s/it]"
          ]
        },
        {
          "output_type": "stream",
          "name": "stdout",
          "text": [
            "train Loss:0.0559 Acc:0.1029\n"
          ]
        },
        {
          "output_type": "stream",
          "name": "stderr",
          "text": [
            "\r 62%|██████▎   | 5/8 [00:12<00:04,  1.49s/it]"
          ]
        },
        {
          "output_type": "stream",
          "name": "stdout",
          "text": [
            "train Loss:0.0370 Acc:0.1235\n"
          ]
        },
        {
          "output_type": "stream",
          "name": "stderr",
          "text": [
            "\r 75%|███████▌  | 6/8 [00:13<00:02,  1.25s/it]"
          ]
        },
        {
          "output_type": "stream",
          "name": "stdout",
          "text": [
            "train Loss:0.0441 Acc:0.1193\n"
          ]
        },
        {
          "output_type": "stream",
          "name": "stderr",
          "text": [
            "\r 88%|████████▊ | 7/8 [00:13<00:01,  1.10s/it]"
          ]
        },
        {
          "output_type": "stream",
          "name": "stdout",
          "text": [
            "train Loss:0.0409 Acc:0.1235\n"
          ]
        },
        {
          "output_type": "stream",
          "name": "stderr",
          "text": [
            "100%|██████████| 8/8 [00:21<00:00,  2.67s/it]\n"
          ]
        },
        {
          "output_type": "stream",
          "name": "stdout",
          "text": [
            "train Loss:0.0102 Acc:0.0782\n"
          ]
        },
        {
          "output_type": "stream",
          "name": "stderr",
          "text": [
            " 20%|██        | 1/5 [00:00<00:01,  2.52it/s]"
          ]
        },
        {
          "output_type": "stream",
          "name": "stdout",
          "text": [
            "val Loss:0.0316 Acc:0.1961\n"
          ]
        },
        {
          "output_type": "stream",
          "name": "stderr",
          "text": [
            "\r 40%|████      | 2/5 [00:00<00:01,  2.51it/s]"
          ]
        },
        {
          "output_type": "stream",
          "name": "stdout",
          "text": [
            "val Loss:0.0321 Acc:0.1830\n"
          ]
        },
        {
          "output_type": "stream",
          "name": "stderr",
          "text": [
            "\r 60%|██████    | 3/5 [00:01<00:00,  2.19it/s]"
          ]
        },
        {
          "output_type": "stream",
          "name": "stdout",
          "text": [
            "val Loss:0.0180 Acc:0.2092\n"
          ]
        },
        {
          "output_type": "stream",
          "name": "stderr",
          "text": [
            "\r 80%|████████  | 4/5 [00:01<00:00,  2.30it/s]"
          ]
        },
        {
          "output_type": "stream",
          "name": "stdout",
          "text": [
            "val Loss:0.0496 Acc:0.2026\n"
          ]
        },
        {
          "output_type": "stream",
          "name": "stderr",
          "text": [
            "100%|██████████| 5/5 [00:02<00:00,  2.46it/s]"
          ]
        },
        {
          "output_type": "stream",
          "name": "stdout",
          "text": [
            "val Loss:0.0450 Acc:0.1503\n"
          ]
        },
        {
          "output_type": "stream",
          "name": "stderr",
          "text": [
            "\n"
          ]
        }
      ]
    },
    {
      "cell_type": "code",
      "source": [
        "# !ls"
      ],
      "metadata": {
        "colab": {
          "base_uri": "https://localhost:8080/"
        },
        "id": "XzJbZ9B3shyT",
        "outputId": "225476cb-fb05-4681-860f-f100e964f581"
      },
      "execution_count": 29,
      "outputs": [
        {
          "output_type": "stream",
          "name": "stdout",
          "text": [
            "data  drive  sample_data  utils\n"
          ]
        }
      ]
    },
    {
      "cell_type": "code",
      "source": [
        "#保存和读取训练完毕的网络\n",
        "\n",
        "#保存PyTorch网络参数\n",
        "save_path = './weights_fine_tuning.pth'\n",
        "torch.save(net.state_dict(),save_path)"
      ],
      "metadata": {
        "id": "WGUnFICUs2qv"
      },
      "execution_count": 30,
      "outputs": []
    },
    {
      "cell_type": "code",
      "source": [
        "#载入网络参数\n",
        "load_path = './weights_fine_tuning.pth'\n",
        "load_weights = torch.load(load_path)\n",
        "net.load_state_dict(load_weights)"
      ],
      "metadata": {
        "colab": {
          "base_uri": "https://localhost:8080/"
        },
        "id": "eEzugL5PtgkZ",
        "outputId": "1f849208-bf89-4ab8-f435-2d560012b4a8"
      },
      "execution_count": 31,
      "outputs": [
        {
          "output_type": "execute_result",
          "data": {
            "text/plain": [
              "<All keys matched successfully>"
            ]
          },
          "metadata": {},
          "execution_count": 31
        }
      ]
    },
    {
      "cell_type": "code",
      "source": [
        "#在GPU上保存的权重在cpu上读取\n",
        "load_weights = torch.load(load_path,map_location={'cuda:0':'cpu'})\n",
        "net.load_state_dict(load_weights)"
      ],
      "metadata": {
        "colab": {
          "base_uri": "https://localhost:8080/"
        },
        "id": "Z5Te5qa7uFD3",
        "outputId": "1989675e-3cc4-4f8b-e688-ab35e27f8aa7"
      },
      "execution_count": 32,
      "outputs": [
        {
          "output_type": "execute_result",
          "data": {
            "text/plain": [
              "<All keys matched successfully>"
            ]
          },
          "metadata": {},
          "execution_count": 32
        }
      ]
    },
    {
      "cell_type": "markdown",
      "source": [
        "# 以上代码均使用colab T4GPU实现"
      ],
      "metadata": {
        "id": "pxBTQ3uZuovN"
      }
    }
  ],
  "metadata": {
    "language_info": {
      "name": "python"
    },
    "orig_nbformat": 4,
    "colab": {
      "provenance": [],
      "gpuType": "T4"
    },
    "accelerator": "GPU",
    "kernelspec": {
      "name": "python3",
      "display_name": "Python 3"
    }
  },
  "nbformat": 4,
  "nbformat_minor": 0
}